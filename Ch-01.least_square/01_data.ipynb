{
 "cells": [
  {
   "cell_type": "markdown",
   "metadata": {},
   "source": [
    "# data process\n",
    "\n",
    "데이터 처리 과정은 주어진 데이터를 모델이 학습 가능하도록 처리하는 과정이다.\n",
    "\n",
    "(1)numpy를 이용한 데이터 불러오기(csv)\n",
    "\n",
    "(2)numpy를 이용한 데이터 벡터화\n",
    "\n",
    "---\n",
    "\n",
    "    np.genfromtxt(경로, 구분자)"
   ]
  },
  {
   "cell_type": "code",
   "execution_count": null,
   "metadata": {},
   "outputs": [
    {
     "name": "stdout",
     "output_type": "stream",
     "text": [
      "(100,) (100,)\n"
     ]
    }
   ],
   "source": [
    "import numpy as np\n",
    "\n",
    "point = np.genfromtxt(\"./data/point.csv\", delimiter = ',')\n",
    "#delimiter을 기준으로 point값을 저장한다. 이때 데이터는 행렬로 저장이된다.\n",
    "\n",
    "x = point[0]\n",
    "y = point[1]\n",
    "\n",
    "print(x.shape, y.shape)\n"
   ]
  },
  {
   "cell_type": "markdown",
   "metadata": {},
   "source": [
    "모델에 사용될 데이터는 주로 벡터화된 데이터이므로 1차원 데이터를 벡터로 표현해주어야 한다.\n",
    "\n",
    "    data.reshape(-1,1)"
   ]
  },
  {
   "cell_type": "code",
   "execution_count": 5,
   "metadata": {},
   "outputs": [
    {
     "name": "stdout",
     "output_type": "stream",
     "text": [
      "(100, 1) (100, 1)\n"
     ]
    }
   ],
   "source": [
    "x = x.reshape(-1, 1)\n",
    "y = y.reshape(-1, 1)\n",
    "print(x.shape, y.shape)"
   ]
  }
 ],
 "metadata": {
  "kernelspec": {
   "display_name": "Python 3",
   "language": "python",
   "name": "python3"
  },
  "language_info": {
   "codemirror_mode": {
    "name": "ipython",
    "version": 3
   },
   "file_extension": ".py",
   "mimetype": "text/x-python",
   "name": "python",
   "nbconvert_exporter": "python",
   "pygments_lexer": "ipython3",
   "version": "3.13.2"
  }
 },
 "nbformat": 4,
 "nbformat_minor": 2
}
