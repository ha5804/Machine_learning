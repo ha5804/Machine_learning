{
 "cells": [
  {
   "cell_type": "markdown",
   "metadata": {},
   "source": [
    "# Data process\n",
    "\n",
    "이번에 다루어볼 데이터는 3차원 데이터이다.\n",
    "\n",
    "3차원 데이터는 후에 시각화 할때 grid(격자)형태로 처리해야함을 유의하자.\n",
    "\n",
    "나머지는 동일하다."
   ]
  },
  {
   "cell_type": "code",
   "execution_count": 2,
   "metadata": {},
   "outputs": [
    {
     "name": "stdout",
     "output_type": "stream",
     "text": [
      "(400,) (400,) (400,)\n",
      "(400,) (400,) (400,)\n"
     ]
    }
   ],
   "source": [
    "import numpy as np\n",
    "\n",
    "clean_data = np.genfromtxt(\"./data/point_clean.csv\", delimiter = ',')\n",
    "noisy_data = np.genfromtxt(\"./data/point_noisy.csv\", delimiter = ',')\n",
    "\n",
    "x_clean = clean_data[0]\n",
    "y_clean = clean_data[1]\n",
    "z_clean = clean_data[2]\n",
    "\n",
    "x_noisy = noisy_data[0]\n",
    "y_noisy = noisy_data[1]\n",
    "z_noisy = noisy_data[2]\n",
    "\n",
    "print(x_clean.shape, y_clean.shape, z_clean.shape)\n",
    "print(x_noisy.shape, y_noisy.shape, z_noisy.shape)"
   ]
  },
  {
   "cell_type": "markdown",
   "metadata": {},
   "source": [
    "    plot을 위한 데이터 격자화"
   ]
  },
  {
   "cell_type": "code",
   "execution_count": 4,
   "metadata": {},
   "outputs": [
    {
     "name": "stdout",
     "output_type": "stream",
     "text": [
      "(20, 20) (20, 20) (20, 20)\n",
      "(20, 20) (20, 20) (20, 20)\n"
     ]
    }
   ],
   "source": [
    "x_noisy_grid = x_noisy.reshape(-20, 20)\n",
    "y_noisy_grid = y_noisy.reshape(-20, 20)\n",
    "z_noisy_grid = z_noisy.reshape(-20, 20)\n",
    "\n",
    "x_clean_grid = x_clean.reshape(-20, 20)\n",
    "y_clean_grid = y_clean.reshape(-20, 20)\n",
    "z_clean_grid = z_clean.reshape(-20, 20)\n",
    "\n",
    "print(x_noisy_grid.shape, y_noisy_grid.shape, z_noisy_grid.shape)\n",
    "print(x_clean_grid.shape, y_clean_grid.shape, z_clean_grid.shape)"
   ]
  }
 ],
 "metadata": {
  "kernelspec": {
   "display_name": "Python 3",
   "language": "python",
   "name": "python3"
  },
  "language_info": {
   "codemirror_mode": {
    "name": "ipython",
    "version": 3
   },
   "file_extension": ".py",
   "mimetype": "text/x-python",
   "name": "python",
   "nbconvert_exporter": "python",
   "pygments_lexer": "ipython3",
   "version": "3.13.2"
  }
 },
 "nbformat": 4,
 "nbformat_minor": 2
}
