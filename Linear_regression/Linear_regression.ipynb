{
 "cells": [
  {
   "cell_type": "markdown",
   "metadata": {},
   "source": [
    "# 선형 회귀"
   ]
  },
  {
   "cell_type": "markdown",
   "metadata": {},
   "source": [
    "## (1) 데이터 처리"
   ]
  },
  {
   "cell_type": "code",
   "execution_count": null,
   "metadata": {},
   "outputs": [],
   "source": [
    "import numpy as np\n",
    "import csv\n",
    "import matplotlib.pyplot as plt\n",
    "\n",
    "class MyData:\n",
    "    def __init__(self):\n",
    "        self.file_clean = \"./data/point_clean.csv\"\n",
    "        self.file_noisy = \"./data/point_noisy.csv\"\n",
    "    \n",
    "    def get_data_clean(self):\n",
    "        dc = np.genfromtxt(self.file_clean, delimiter = ',')\n",
    "        return dc\n",
    "\n",
    "    def get_data_noisy(self):\n",
    "        dn = np.genfromtxt(self.file_noisy, delimiter = ',')\n",
    "        return dn"
   ]
  },
  {
   "cell_type": "markdown",
   "metadata": {},
   "source": [
    "## (2) 데이터 Plot"
   ]
  },
  {
   "cell_type": "code",
   "execution_count": null,
   "metadata": {},
   "outputs": [],
   "source": [
    "class MyPlot:\n",
    "    def __init__(self):\n",
    "        self.figsize = (8,8)\n",
    "    \n",
    "    def plot_point(self, p):"
   ]
  }
 ],
 "metadata": {
  "kernelspec": {
   "display_name": "Python 3",
   "language": "python",
   "name": "python3"
  },
  "language_info": {
   "name": "python",
   "version": "3.13.2"
  }
 },
 "nbformat": 4,
 "nbformat_minor": 2
}
