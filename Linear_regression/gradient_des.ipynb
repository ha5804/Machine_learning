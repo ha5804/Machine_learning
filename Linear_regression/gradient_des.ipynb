{
 "cells": [
  {
   "cell_type": "markdown",
   "metadata": {},
   "source": [
    "# 선형 회귀\n",
    "\n",
    "선형 회귀를 해결하기 위한 알고리즘은 매우 많다.\n",
    "\n",
    "경사 하강법, 정규 방정식, 결정 트리, 서포트 백터 머신. \n",
    "\n",
    "이번에는 경사 하강법에 대해 알아보자."
   ]
  },
  {
   "cell_type": "markdown",
   "metadata": {},
   "source": [
    "## (1) 데이터 처리"
   ]
  },
  {
   "cell_type": "code",
   "execution_count": null,
   "metadata": {},
   "outputs": [],
   "source": [
    "import numpy as np\n",
    "import csv\n",
    "import matplotlib.pyplot as plt\n",
    "\n",
    "class MyData:\n",
    "    def __init__(self):\n",
    "        self.file_clean = \"./data/point_clean.csv\"\n",
    "        self.file_noisy = \"./data/point_noisy.csv\"\n",
    "    \n",
    "    def get_data_clean(self):\n",
    "        dc = np.genfromtxt(self.file_clean, delimiter = ',')\n",
    "        return dc\n",
    "\n",
    "    def get_data_noisy(self):\n",
    "        dn = np.genfromtxt(self.file_noisy, delimiter = ',')\n",
    "        return dn"
   ]
  },
  {
   "cell_type": "markdown",
   "metadata": {},
   "source": [
    "## (2) 경사 하강법"
   ]
  },
  {
   "cell_type": "code",
   "execution_count": null,
   "metadata": {},
   "outputs": [],
   "source": []
  }
 ],
 "metadata": {
  "kernelspec": {
   "display_name": "Python 3",
   "language": "python",
   "name": "python3"
  },
  "language_info": {
   "name": "python",
   "version": "3.13.2"
  }
 },
 "nbformat": 4,
 "nbformat_minor": 2
}
