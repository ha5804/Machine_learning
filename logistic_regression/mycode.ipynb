{
 "cells": [
  {
   "cell_type": "code",
   "execution_count": 1,
   "metadata": {},
   "outputs": [],
   "source": [
    "import numpy as np\n",
    "import matplotlib.image as img\n",
    "import matplotlib.pyplot as plt\n",
    "import matplotlib.colors as colors\n",
    "from matplotlib.ticker import LinearLocator\n",
    "from matplotlib import cm\n",
    "from mpl_toolkits.mplot3d import Axes3D"
   ]
  },
  {
   "cell_type": "code",
   "execution_count": null,
   "metadata": {},
   "outputs": [
    {
     "data": {
      "text/plain": [
       "array([[ 0.64085733, -3.21326638,  0.        ],\n",
       "       [-0.3932912 , -1.19458392,  0.        ],\n",
       "       [-0.36411809, -0.86631498,  0.        ],\n",
       "       ...,\n",
       "       [-0.89823005,  1.36486699,  1.        ],\n",
       "       [ 1.60656738, -0.27068949,  1.        ],\n",
       "       [ 1.07681215, -0.11358158,  1.        ]], shape=(400, 3))"
      ]
     },
     "execution_count": 3,
     "metadata": {},
     "output_type": "execute_result"
    }
   ],
   "source": [
    "data = np.genfromtxt('./data/point.csv', delimiter = ',')\n",
    "data"
   ]
  },
  {
   "cell_type": "code",
   "execution_count": 7,
   "metadata": {},
   "outputs": [
    {
     "name": "stdout",
     "output_type": "stream",
     "text": [
      "(400, 1) (400, 1) (400, 1)\n"
     ]
    }
   ],
   "source": [
    "x = data[:, 0].reshape(-1,1)\n",
    "y = data[: , 1].reshape(-1,1)\n",
    "label = data[: , 2].reshape(-1,1)\n",
    "print(x.shape, y.shape, label.shape)"
   ]
  },
  {
   "cell_type": "code",
   "execution_count": 10,
   "metadata": {},
   "outputs": [
    {
     "name": "stdout",
     "output_type": "stream",
     "text": [
      "x1 = [array([0.64085733]), array([-0.3932912]), array([-0.36411809]), array([-2.31025032]), array([-2.13578625])]\n",
      "y1 = [array([-3.21326638]), array([-1.19458392]), array([-0.86631498]), array([-2.88728774]), array([-0.96013553])]\n",
      "x2 = [array([0.95352143]), array([1.75779376]), array([0.42684848]), array([0.14408815]), array([0.58310167])]\n",
      "y2 = [array([2.68465914]), array([1.7602406]), array([1.66336532]), array([3.04692514]), array([0.25009586])]\n"
     ]
    }
   ],
   "source": [
    "x1 = [x[i] for i in range(len(x)) if label[i] == 0]\n",
    "y1 = [y[i] for i in range(len(y)) if label[i] == 0]\n",
    "x2 = [x[i] for i in range(len(x)) if label[i] == 1]\n",
    "y2 = [y[i] for i in range(len(y)) if label[i] == 1]\n",
    "print(f\"x1 = {x1[:5]}\")\n",
    "print(f\"y1 = {y1[:5]}\")\n",
    "print(f\"x2 = {x2[:5]}\")\n",
    "print(f\"y2 = {y2[:5]}\")"
   ]
  }
 ],
 "metadata": {
  "kernelspec": {
   "display_name": "Python 3",
   "language": "python",
   "name": "python3"
  },
  "language_info": {
   "codemirror_mode": {
    "name": "ipython",
    "version": 3
   },
   "file_extension": ".py",
   "mimetype": "text/x-python",
   "name": "python",
   "nbconvert_exporter": "python",
   "pygments_lexer": "ipython3",
   "version": "3.13.2"
  }
 },
 "nbformat": 4,
 "nbformat_minor": 2
}
