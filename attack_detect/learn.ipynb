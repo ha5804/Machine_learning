{
 "cells": [
  {
   "cell_type": "code",
   "execution_count": 1,
   "metadata": {},
   "outputs": [
    {
     "name": "stdout",
     "output_type": "stream",
     "text": [
      "(125973, 84) (125973, 1)\n"
     ]
    }
   ],
   "source": [
    "from data_control import *\n",
    "from mycode import *\n",
    "\n",
    "model = Model()\n",
    "data = MyData()\n",
    "plot = MyPlot()\n",
    "optim = MyOptim(model)\n",
    "\n",
    "data.get_data()\n",
    "x_train, x_test = data.one_hot_encode()\n",
    "y_train, y_test = data.label_to_int()\n",
    "y_train = np.array(y_train)\n",
    "y_test = np.array(y_test)\n",
    "y_train = y_train.reshape(-1,1)\n",
    "y_test = y_test.reshape(-1, 1)\n",
    "print(x_train.shape, y_train.shape)\n",
    "\n"
   ]
  },
  {
   "cell_type": "code",
   "execution_count": null,
   "metadata": {},
   "outputs": [
    {
     "ename": "TypeError",
     "evalue": "float() argument must be a string or a real number, not 'DataFrame'",
     "output_type": "error",
     "traceback": [
      "\u001b[31m---------------------------------------------------------------------------\u001b[39m",
      "\u001b[31mTypeError\u001b[39m                                 Traceback (most recent call last)",
      "\u001b[36mCell\u001b[39m\u001b[36m \u001b[39m\u001b[32mIn[3]\u001b[39m\u001b[32m, line 10\u001b[39m\n\u001b[32m      8\u001b[39m     optim.step(grad)\n\u001b[32m      9\u001b[39m     \u001b[38;5;28;01mif\u001b[39;00m i % \u001b[32m10\u001b[39m == \u001b[32m0\u001b[39m:\n\u001b[32m---> \u001b[39m\u001b[32m10\u001b[39m         loss_list.append(\u001b[38;5;28;43mfloat\u001b[39;49m\u001b[43m(\u001b[49m\u001b[43mloss\u001b[49m\u001b[43m)\u001b[49m)\n\u001b[32m     12\u001b[39m plot.plot_loss(loss_list)\n",
      "\u001b[31mTypeError\u001b[39m: float() argument must be a string or a real number, not 'DataFrame'"
     ]
    }
   ],
   "source": [
    "loss_list = []\n",
    "\n",
    "for i in range(100):\n",
    "    pred = model.predict(x_train)\n",
    "    loss = optim.compute_loss(y_train, pred)\n",
    "    \n",
    "    grad = optim.compute_gradient(x_train, y_train, pred)\n",
    "    optim.step(grad)\n",
    "    if i % 10 == 0:\n",
    "        loss_list.append(float(loss.values[0][0]))\n",
    "\n",
    "plot.plot_loss(loss_list)\n"
   ]
  }
 ],
 "metadata": {
  "kernelspec": {
   "display_name": "Python 3",
   "language": "python",
   "name": "python3"
  },
  "language_info": {
   "codemirror_mode": {
    "name": "ipython",
    "version": 3
   },
   "file_extension": ".py",
   "mimetype": "text/x-python",
   "name": "python",
   "nbconvert_exporter": "python",
   "pygments_lexer": "ipython3",
   "version": "3.13.2"
  }
 },
 "nbformat": 4,
 "nbformat_minor": 2
}
