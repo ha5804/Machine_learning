{
 "cells": [
  {
   "cell_type": "code",
   "execution_count": null,
   "metadata": {},
   "outputs": [],
   "source": [
    "import numpy as np\n",
    "\n",
    "class MyModel:\n",
    "    def __init__(self):\n",
    "        self.weight = np.zeros((3,1))\n",
    "\n",
    "    def get_feature_matrix(self, x, y):\n",
    "        A = np.column_stack([np.ones(len(x)), x, y])\n",
    "        return A\n",
    "    \n",
    "    def predict(self, x, y):\n",
    "        A = self.get_feature_matrix(x, y)\n",
    "        z = A @ self.weight\n",
    "        pred = self.activate(z)\n",
    "        return pred\n",
    "    \n",
    "    def activate(self, x):\n",
    "        y = 1 / (1 + np.exp(-x))\n",
    "        return y\n",
    "    \n",
    "    def update(self, weight):\n",
    "        self.weight = weight\n",
    "\n",
    "class MyOptim:\n",
    "    def __init__(self, model):\n",
    "        self.lr = 0.1\n",
    "        self.num_iter = 1000\n",
    "        self.model = model\n",
    "\n",
    "    def compute_loss(self, label, prediction):\n",
    "        loss = - 1 / (len(label)) * (np.sum(label * np.log(prediction) + (1 - label) * np.log(1-prediction)))\n",
    "\n",
    "    def compute_gradient(self, x, y, label, pred):\n",
    "        A = self.model.get_feature_matrix(x, y)\n",
    "        grad = (1/ len(label)) * (A.T @ (pred - label))\n",
    "        return grad\n",
    "    \n",
    "    def step(self, grad):\n",
    "        weight = self.model.weight\n",
    "        next_weight = weight - (self.lr * grad)\n",
    "        self.model.update(next_weight)\n",
    "        return next_weight\n",
    "    "
   ]
  }
 ],
 "metadata": {
  "kernelspec": {
   "display_name": "Python 3",
   "language": "python",
   "name": "python3"
  },
  "language_info": {
   "codemirror_mode": {
    "name": "ipython",
    "version": 3
   },
   "file_extension": ".py",
   "mimetype": "text/x-python",
   "name": "python",
   "nbconvert_exporter": "python",
   "pygments_lexer": "ipython3",
   "version": "3.13.2"
  }
 },
 "nbformat": 4,
 "nbformat_minor": 2
}
